{
 "cells": [
  {
   "cell_type": "code",
   "execution_count": 4,
   "id": "bc767281",
   "metadata": {},
   "outputs": [],
   "source": [
    "import psycopg2\n",
    "import itertools\n",
    "import numpy as np\n",
    "import pandas as pd\n",
    "import cv2\n",
    "import matplotlib.pyplot as plt"
   ]
  },
  {
   "cell_type": "code",
   "execution_count": 5,
   "id": "915cab81",
   "metadata": {},
   "outputs": [],
   "source": [
    "conn = psycopg2.connect(database=\"demo\", user=\"postgres\", password=\"1068\", host=\"localhost\", port=\"5432\")\n",
    "cur = conn.cursor()"
   ]
  },
  {
   "cell_type": "code",
   "execution_count": 6,
   "id": "4be97a04",
   "metadata": {},
   "outputs": [],
   "source": [
    "num_types = 5\n",
    "step_size = 0.02\n",
    "min_area = 0.0004\n",
    "max_area = 0.02\n",
    "min_side = 0.02\n",
    "thresh = 0.15\n",
    "d = 500\n",
    "data_path = 'new_data.txt'"
   ]
  },
  {
   "cell_type": "code",
   "execution_count": 7,
   "id": "6aa176dd",
   "metadata": {},
   "outputs": [],
   "source": [
    "def visualize_data(lst_of_points):\n",
    "    \n",
    "    ch = 'A'\n",
    "    char_set = []\n",
    "    n = len(lst_of_points)\n",
    "    \n",
    "    for i in range(n):\n",
    "        char_set.append(ch)\n",
    "        ch = chr(ord(ch) + 1)\n",
    "    \n",
    "    for i in range(n):\n",
    "        lst = lst_of_points[i]\n",
    "        lst = np.array(lst)\n",
    "        lst = np.float64(lst)\n",
    "        \n",
    "        x = lst[:,0]\n",
    "        y = lst[:,1]\n",
    "        plt.scatter(x,y)\n",
    "    plt.legend(char_set, loc='center left', bbox_to_anchor=(1.0, 0.5))\n",
    "    plt.show()"
   ]
  },
  {
   "cell_type": "code",
   "execution_count": 8,
   "id": "be75f930",
   "metadata": {},
   "outputs": [],
   "source": [
    "def delete_tables():\n",
    "    ch = 'A'\n",
    "    char_set = []\n",
    "    \n",
    "    for i in range(num_types):\n",
    "        char_set.append(ch)\n",
    "        ch = chr(ord(ch) + 1)\n",
    "    \n",
    "#     char_set = ['A','B','C','D','E','F']\n",
    "    \n",
    "    for ch in char_set:\n",
    "        query = '''Drop table if exists ''' + str(ch)\n",
    "        cur.execute(query)\n",
    "        conn.commit()\n",
    "    "
   ]
  },
  {
   "cell_type": "code",
   "execution_count": 9,
   "id": "75e93d63",
   "metadata": {},
   "outputs": [],
   "source": [
    "def insert_into_table():\n",
    "    event = 'A'\n",
    "    events = {}\n",
    "    lst_of_points = []\n",
    "    # file = open(\"data1.txt\")\n",
    "    with open(data_path) as file:\n",
    "        while True:\n",
    "            line = file.readline()\n",
    "            if not line:\n",
    "                break\n",
    "            n = int(line)\n",
    "            lst = []\n",
    "            events[event] = n\n",
    "            create_script = ' CREATE TABLE IF NOT EXISTS ' + event + ' (id SERIAL PRIMARY KEY,' + event + '_name VARCHAR(64),' + event + '_location GEOGRAPHY(POINT, 4326) )'\n",
    "            cur.execute(create_script)\n",
    "\n",
    "            for i in range(n):\n",
    "                line = file.readline()\n",
    "                name = event + str(i+1)\n",
    "                lst.append((line.strip().split(\" \",1)))\n",
    "\n",
    "                point = \"POINT(\" + line.strip() + \")\"\n",
    "\n",
    "\n",
    "                insert_script = 'INSERT INTO ' + event + '(' + event + '_name, ' + event + '_location) VALUES(%s, %s)'\n",
    "                insert_value = (name, point)\n",
    "                cur.execute(insert_script, insert_value)\n",
    "                conn.commit()\n",
    "                \n",
    "            lst_of_points.append(lst)    \n",
    "\n",
    "            event = chr(ord(event)+1)\n",
    "\n",
    "        file.close()\n",
    "\n",
    "    return events, lst_of_points\n"
   ]
  },
  {
   "cell_type": "code",
   "execution_count": 10,
   "id": "3ffaf2cc",
   "metadata": {},
   "outputs": [],
   "source": [
    "delete_tables()\n",
    "events, lst_of_points = insert_into_table()"
   ]
  },
  {
   "cell_type": "code",
   "execution_count": 11,
   "id": "1b8a3f26",
   "metadata": {},
   "outputs": [
    {
     "data": {
      "text/plain": [
       "({'A': 20, 'B': 21, 'C': 18, 'D': 17}, 4)"
      ]
     },
     "execution_count": 11,
     "metadata": {},
     "output_type": "execute_result"
    }
   ],
   "source": [
    "events, len(lst_of_points)"
   ]
  },
  {
   "cell_type": "code",
   "execution_count": 12,
   "id": "1c2f39f1",
   "metadata": {},
   "outputs": [
    {
     "data": {
      "image/png": "[encoded data removed]",
      "text/plain": [
       "<Figure size 432x288 with 1 Axes>"
      ]
     },
     "metadata": {
      "needs_background": "light"
     },
     "output_type": "display_data"
    }
   ],
   "source": [
    "visualize_data(lst_of_points)"
   ]
  },
  {
   "cell_type": "code",
   "execution_count": 13,
   "id": "52c25739",
   "metadata": {},
   "outputs": [],
   "source": [
    "n = len(lst_of_points)\n",
    "x_min, y_min, x_max, y_max = 10000, 10000, -1 , -1\n",
    "\n",
    "for i in range(n):\n",
    "    lst = lst_of_points[i]\n",
    "    lst = np.array(lst)\n",
    "    lst = np.float64(lst)\n",
    "    \n",
    "    mini = min(lst[:,0])\n",
    "    if mini < x_min:\n",
    "        x_min = mini\n",
    "    mini = min(lst[:,1])\n",
    "    if mini < y_min:\n",
    "        y_min = mini\n",
    "    \n",
    "    maxi = max(lst[:,0])\n",
    "    if maxi > x_max:\n",
    "        x_max = maxi\n",
    "    maxi = max(lst[:,1])\n",
    "    if maxi > y_max:\n",
    "        y_max = maxi        "
   ]
  },
  {
   "cell_type": "code",
   "execution_count": 14,
   "id": "560a20e7",
   "metadata": {},
   "outputs": [
    {
     "name": "stdout",
     "output_type": "stream",
     "text": [
      "(x_min = 76.68069457895719, y_min = 30.638770989969345), (x_max = 76.81050952337735, y_max = 30.79404186093205)\n",
      "0.02015647948409374\n"
     ]
    }
   ],
   "source": [
    "print(f\"(x_min = {x_min}, y_min = {y_min}), (x_max = {x_max}, y_max = {y_max})\")\n",
    "print(str((x_max-x_min)*(y_max-y_min)))"
   ]
  },
  {
   "cell_type": "code",
   "execution_count": 15,
   "id": "d7ae79cd",
   "metadata": {},
   "outputs": [],
   "source": [
    "def find_points_inside_rec(x1, y1, x2, y2):\n",
    "    result = []\n",
    "    event_pre_in_rec = []\n",
    "    for key in events.keys():\n",
    "        select_query = (\" select * from \" +  str(key) + \n",
    "                        \" where ST_Contains(ST_MakeEnvelope(\" + \n",
    "                        str(x1) + \",\" +\n",
    "                        str(y1) + \",\" +\n",
    "                        str(x2) + \",\" +\n",
    "                        str(y2) + \",\" +\n",
    "                        str(4326) +\n",
    "                        \"),\" + str(key) + \".\" + str(key) + \"_location::geometry)\") \n",
    "                                      \n",
    "        cur.execute(select_query)\n",
    "        temp = cur.fetchall()\n",
    "        \n",
    "        deleteQuery = '''Drop table if exists ''' + key + '_rec'\n",
    "        cur.execute(deleteQuery)\n",
    "        conn.commit()\n",
    "        \n",
    "        create_query = 'create table ' + key + '_rec as ' + select_query\n",
    "        cur.execute(create_query)\n",
    "       \n",
    "        \n",
    "        if len(temp) != 0:\n",
    "            event_pre_in_rec.append(key)\n",
    "            result += temp\n",
    "        \n",
    "    \n",
    "    return result, event_pre_in_rec\n",
    "       \n",
    "        "
   ]
  },
  {
   "cell_type": "code",
   "execution_count": 16,
   "id": "21ed31db",
   "metadata": {},
   "outputs": [],
   "source": [
    "def generate_pattern(event_pre_in_rec, k):\n",
    "    return list(itertools.combinations(event_pre_in_rec, k))   "
   ]
  },
  {
   "cell_type": "code",
   "execution_count": 17,
   "id": "6b439953",
   "metadata": {},
   "outputs": [],
   "source": [
    "def cross_k_function_for_size_2(key, sub, d):   \n",
    "    query = 'SELECT x.' + sub[0] + '_name, y.' + sub[1] + '_name FROM ' + sub[0] + '_rec' + ' as x JOIN ' + sub[1] + '_rec' + \\\n",
    "            ' as y ON ST_DWithin(x.' + sub[0] + '_location::geography, y.' + sub[1] + '_location::geography,' + str(d) + ')'\n",
    "    cur.execute(query)\n",
    "    result = cur.fetchall()\n",
    "\n",
    "    deleteQuery = '''Drop table if exists ''' + key\n",
    "    cur.execute(deleteQuery)\n",
    "    conn.commit()\n",
    "\n",
    "    createQuery = 'create table ' + key + ' as ' + query\n",
    "    cur.execute(createQuery)\n",
    "\n",
    "    numerator = len(result)\n",
    "\n",
    "    denominator = 1\n",
    "\n",
    "    for item in sub:\n",
    "        select_query = \"select * from \" + item + \"_rec\"\n",
    "        cur.execute(select_query)\n",
    "        res = cur.fetchall()\n",
    "\n",
    "        if len(res) != 0:\n",
    "            denominator *= len(res)\n",
    "\n",
    "    cross_k = numerator / denominator\n",
    "\n",
    "    return cross_k"
   ]
  },
  {
   "cell_type": "code",
   "execution_count": 18,
   "id": "d43a0770",
   "metadata": {},
   "outputs": [],
   "source": [
    "def cross_k_function_for_size_k(key, sub):\n",
    "    query = \"SELECT * from \"\n",
    "    check = True\n",
    "    for item in sub:\n",
    "        if check == True:\n",
    "            query += item\n",
    "            check = False\n",
    "        else:\n",
    "            query += ' NATURAL JOIN ' + item\n",
    "\n",
    "    cur.execute(query)\n",
    "    result = cur.fetchall()\n",
    "\n",
    "    deleteQuery = '''Drop table if exists ''' + key\n",
    "    cur.execute(deleteQuery)\n",
    "    conn.commit()\n",
    "    \n",
    "    createQuery = 'create table ' + key + ' as ' + query\n",
    "    cur.execute(createQuery)\n",
    "\n",
    "    numerator = len(result)\n",
    "\n",
    "    denominator = 1\n",
    "    \n",
    "    for item in key:\n",
    "        select_query = \"select * from \" + item + \"_rec\"\n",
    "        cur.execute(select_query)\n",
    "        res = cur.fetchall()\n",
    "        \n",
    "        if len(res) != 0:\n",
    "            denominator *= len(res)\n",
    "\n",
    "    cross_k = numerator / denominator\n",
    "    \n",
    "    return cross_k"
   ]
  },
  {
   "cell_type": "code",
   "execution_count": 19,
   "id": "b644531d",
   "metadata": {},
   "outputs": [],
   "source": [
    "def print_pattern_sz_k(valid_subsets, sz):\n",
    "    if len(valid_subsets) == 0:\n",
    "        return []\n",
    "    \n",
    "    valid_pattern = []\n",
    "    for st in valid_subsets:\n",
    "        st = sorted(st)\n",
    "\n",
    "        st_str = ''\n",
    "        for ch in st:\n",
    "            st_str += ch\n",
    "\n",
    "        valid_pattern.append(st_str)\n",
    "    \n",
    "    return list(valid_pattern)\n"
   ]
  },
  {
   "cell_type": "code",
   "execution_count": 20,
   "id": "1106a554",
   "metadata": {},
   "outputs": [],
   "source": [
    "def checkValidity(pattern, invalid_subsets):\n",
    "    for st in invalid_subsets:\n",
    "        if len(list(set(st) & set(pattern))) == len(st):\n",
    "            return False\n",
    "\n",
    "    return True"
   ]
  },
  {
   "cell_type": "code",
   "execution_count": 21,
   "id": "e7e64e4d",
   "metadata": {},
   "outputs": [],
   "source": [
    "def create_new_pattern(new_pattern, ptrn):\n",
    "    new_pattern = sorted(new_pattern)\n",
    "    new_ptrn_str = \"\"\n",
    "    for ch in new_pattern:\n",
    "        new_ptrn_str += ch\n",
    "\n",
    "    ptrn0_str = \"\"\n",
    "    ptrn_0 = sorted(ptrn[0])\n",
    "    for ch in ptrn_0:\n",
    "        ptrn0_str += ch\n",
    "\n",
    "    ptrn1_str = \"\"\n",
    "    ptrn_1 = sorted(ptrn[1])\n",
    "    for ch in ptrn_1:\n",
    "        ptrn1_str += ch\n",
    "        \n",
    "    return new_ptrn_str, ptrn0_str, ptrn1_str    \n",
    "    "
   ]
  },
  {
   "cell_type": "code",
   "execution_count": 22,
   "id": "2388b100",
   "metadata": {},
   "outputs": [],
   "source": [
    "def create_size_two_pattern(event_pre_in_rec, thresh, d):\n",
    "    subsets = generate_pattern(event_pre_in_rec, 2)\n",
    "    valid_subset = []\n",
    "    invalid_subset = []\n",
    "\n",
    "    for sub in subsets:\n",
    "        sub =sorted(sub)\n",
    "\n",
    "        key = \"\"\n",
    "        for ch in sub:\n",
    "            key += ch\n",
    "\n",
    "        cross_k_val = cross_k_function_for_size_2(key, sub,d)\n",
    "\n",
    "        if cross_k_val >= thresh:        \n",
    "            valid_subset.append(sub)\n",
    "        else:\n",
    "            invalid_subset.append(sub)\n",
    "\n",
    "    return valid_subset, invalid_subset"
   ]
  },
  {
   "cell_type": "code",
   "execution_count": 23,
   "id": "8017be90",
   "metadata": {},
   "outputs": [],
   "source": [
    "def merge_valid_subset(local_valid_sub, global_valid_sub):\n",
    "    lst = list(set(local_valid_sub + global_valid_sub))\n",
    "    \n",
    "    new_lst = []\n",
    "    \n",
    "    for s in lst:\n",
    "        flag = True\n",
    "        for t in lst:\n",
    "            if s != t and set(s).issubset(set(t)):\n",
    "                flag = False\n",
    "                break\n",
    "        if flag:\n",
    "            new_lst.append(s)\n",
    "            \n",
    "    return  new_lst\n",
    "\n",
    "    "
   ]
  },
  {
   "cell_type": "code",
   "execution_count": 24,
   "id": "ae6ca943",
   "metadata": {},
   "outputs": [],
   "source": [
    "def create_size_k_pattern(event_pre_in_rec, thresh,d,total_events):    \n",
    "    valid_subset, invalid_subset = create_size_two_pattern(event_pre_in_rec, thresh,d)\n",
    "    \n",
    "    valid_patterns_str = print_pattern_sz_k(valid_subset,2)  \n",
    "        \n",
    "    global_valid_subset = valid_patterns_str\n",
    "       \n",
    "    for sz in range(3,total_events+1,1):\n",
    "        valid_patterns = generate_pattern(valid_subset, 2)\n",
    "        \n",
    "        set1 = []\n",
    "        set2 = []\n",
    "\n",
    "        new_subsets = {}\n",
    "\n",
    "        for ptrn in valid_patterns:\n",
    "            new_pattern = ptrn[0] + ptrn[1]\n",
    "            new_pattern = set(new_pattern)\n",
    "            new_pattern = tuple(new_pattern)\n",
    "\n",
    "            if len(new_pattern) == sz:\n",
    "                new_pattern_validity = checkValidity(new_pattern, invalid_subset)\n",
    "\n",
    "\n",
    "                if new_pattern_validity == True:\n",
    "                    new_ptrn_str, ptrn0_str, ptrn1_str = create_new_pattern(new_pattern, ptrn)\n",
    "\n",
    "                    if new_ptrn_str in new_subsets:\n",
    "                        new_subsets[new_ptrn_str].add(ptrn0_str)\n",
    "                        new_subsets[new_ptrn_str].add(ptrn1_str)\n",
    "                    else:\n",
    "                        new_subsets[new_ptrn_str] = set([ptrn0_str, ptrn1_str])\n",
    "\n",
    "\n",
    "        for key in new_subsets:\n",
    "            cross_k_val = cross_k_function_for_size_k(key, new_subsets[key])\n",
    "            \n",
    "            if cross_k_val >= thresh:\n",
    "                set1.append(tuple(key))\n",
    "            else:\n",
    "                set2.append(tuple(key))\n",
    "\n",
    "        if len(set1) == 0:\n",
    "            break\n",
    "            \n",
    "        valid_subset = set1\n",
    "        invalid_subset = set2\n",
    "\n",
    "        valid_patterns_str = print_pattern_sz_k(valid_subset, sz) \n",
    "        global_valid_subset = merge_valid_subset(valid_patterns_str, global_valid_subset)\n",
    "    \n",
    "     \n",
    "    return global_valid_subset\n",
    "                \n",
    "        "
   ]
  },
  {
   "cell_type": "code",
   "execution_count": 25,
   "id": "b82e2aac",
   "metadata": {},
   "outputs": [],
   "source": [
    "import math\n",
    "\n",
    "def haversine_distance(lat1, lon1, lat2, lon2):   \n",
    "    R = 6371  # radius of the earth in kilometers\n",
    "    dLat = math.radians(lat2 - lat1)\n",
    "    dLon = math.radians(lon2 - lon1)\n",
    "    a = math.sin(dLat / 2) * math.sin(dLat / 2) + math.cos(math.radians(lat1)) * math.cos(math.radians(lat2)) * math.sin(dLon / 2) * math.sin(dLon / 2)\n",
    "    c = 2 * math.atan2(math.sqrt(a), math.sqrt(1 - a))\n",
    "    distance = R * c\n",
    "    return distance"
   ]
  },
  {
   "cell_type": "code",
   "execution_count": 26,
   "id": "fdfa05d8",
   "metadata": {
    "scrolled": true
   },
   "outputs": [],
   "source": [
    "count_x = int(np.ceil((x_max - x_min) / step_size))\n",
    "count_y = int(np.ceil((y_max - y_min) / step_size))\n",
    "\n",
    "df = pd.DataFrame(columns = ['coordinates', 'patterns'])\n",
    "\n",
    "z = 0\n",
    "count = 0 \n",
    "\n",
    "for i in range(count_x):\n",
    "    for j in range(count_y):\n",
    "        for ii in range(i, count_x):\n",
    "            for jj in range(j, count_y): \n",
    "                x1 = x_min + step_size * i\n",
    "                y1 = y_min + step_size * j                   \n",
    "                x2 = min(x_max, x_min + step_size * (ii+1))\n",
    "                y2 = min(y_max, y_min + step_size * (jj+1))\n",
    "                \n",
    "                # Count total rectangles\n",
    "                count += 1\n",
    "                    \n",
    "                area = (x2-x1)*(y2-y1)\n",
    "                                \n",
    "                if area >= min_area and area <= max_area and (x2-x1) >= min_side and (y2-y1) >= min_side:\n",
    "                    \n",
    "                    result, event_pre_in_rec = find_points_inside_rec(x1, y1, x2, y2)\n",
    "                \n",
    "                    patterns = create_size_k_pattern(event_pre_in_rec, thresh, d, len(lst_of_points))  \n",
    "                    \n",
    "                    df.loc[z] = [[x1,y1,x2,y2], patterns]\n",
    "                    \n",
    "                    z += 1  "
   ]
  },
  {
   "cell_type": "code",
   "execution_count": 27,
   "id": "3ef8f64f",
   "metadata": {
    "scrolled": true
   },
   "outputs": [
    {
     "data": {
      "text/plain": [
       "(1008, 7, 8)"
      ]
     },
     "execution_count": 27,
     "metadata": {},
     "output_type": "execute_result"
    }
   ],
   "source": [
    "count, count_x, count_y"
   ]
  },
  {
   "cell_type": "code",
   "execution_count": 28,
   "id": "e69d9723",
   "metadata": {
    "scrolled": true
   },
   "outputs": [],
   "source": [
    "# print(df.to_markdown(tablefmt=\"grid\"))\n",
    "file = open(\"output.txt\", \"w\")\n",
    "file.write(df.to_markdown(tablefmt=\"grid\"))\n",
    "file.close()"
   ]
  },
  {
   "cell_type": "code",
   "execution_count": 30,
   "id": "61fe400a",
   "metadata": {},
   "outputs": [],
   "source": [
    "def show_rect(lst_of_points, x1, y1, x2, y2):\n",
    "    fig, ax = plt.subplots(figsize=(16, 12))\n",
    "    ch = 'A'\n",
    "    char_set = []\n",
    "    \n",
    "    m = ['_','1','*','+','x','s','8','v','o', '2', '3', '4', 'p', 'h', 'H', 'X', 'D', 'd']\n",
    "    \n",
    "    for i in range(10):\n",
    "        char_set.append(ch)\n",
    "        ch = chr(ord(ch) + 1)\n",
    "    n = len(lst_of_points)\n",
    "    for i in range(n):\n",
    "        lst = lst_of_points[i]\n",
    "        lst = np.array(lst)\n",
    "        lst = np.float64(lst)\n",
    "        \n",
    "        x = lst[:,0]\n",
    "        y = lst[:,1]\n",
    "        \n",
    "        plt.scatter(x,y,s=300,marker=m[i],alpha=0.8)\n",
    "    plt.legend(char_set, loc='center left', bbox_to_anchor=(1.0, 0.5))\n",
    "\n",
    "    rect = plt.Rectangle((x1, y1), x2 - x1, y2 - y1, linewidth=1, edgecolor='r', facecolor='none')\n",
    "    ax.add_patch(rect)\n",
    "    plt.show()"
   ]
  },
  {
   "cell_type": "code",
   "execution_count": 31,
   "id": "9377efc1",
   "metadata": {},
   "outputs": [
    {
     "data": {
      "image/png": "[encoded data removed]",
      "text/plain": [
       "<Figure size 1152x864 with 1 Axes>"
      ]
     },
     "metadata": {
      "needs_background": "light"
     },
     "output_type": "display_data"
    }
   ],
   "source": [
    "show_rect(lst_of_points, 76.78049880779032, 30.652186937700684, 76.81558643019979, 30.692186937700683)"
   ]
  },
  {
   "cell_type": "code",
   "execution_count": null,
   "id": "c452dd71",
   "metadata": {},
   "outputs": [],
   "source": [
    "result, event_pre_in_rec = find_points_inside_rec(76.68049880779033, 30.632186937700684, 76.78049880779032, 30.712186937700682)\n",
    "                \n",
    "patterns = create_size_k_pattern(event_pre_in_rec, thresh, d, len(lst_of_points))  "
   ]
  },
  {
   "cell_type": "code",
   "execution_count": null,
   "id": "44a228ad",
   "metadata": {},
   "outputs": [],
   "source": []
  }
 ],
 "metadata": {
  "kernelspec": {
   "display_name": "Python 3 (ipykernel)",
   "language": "python",
   "name": "python3"
  },
  "language_info": {
   "codemirror_mode": {
    "name": "ipython",
    "version": 3
   },
   "file_extension": ".py",
   "mimetype": "text/x-python",
   "name": "python",
   "nbconvert_exporter": "python",
   "pygments_lexer": "ipython3",
   "version": "3.10.10"
  }
 },
 "nbformat": 4,
 "nbformat_minor": 5
}
