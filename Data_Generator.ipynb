{
 "cells": [
  {
   "cell_type": "code",
   "execution_count": 74,
   "metadata": {},
   "outputs": [],
   "source": [
    "import itertools\n",
    "import numpy as np\n",
    "import pandas as pd\n",
    "import matplotlib.pyplot as plt\n",
    "import random\n",
    "import math\n",
    "import string\n",
    "from geopy import distance"
   ]
  },
  {
   "cell_type": "code",
   "execution_count": 75,
   "metadata": {},
   "outputs": [],
   "source": [
    "x_min, x_max = 30.632819, 30.794497\n",
    "y_min, y_max = 76.680850, 76.817545\n",
    "num_patterns = 5\n",
    "num_type = 4\n",
    "min_dist = 0.5\n",
    "point_types = []\n",
    "injected_patterns = set()"
   ]
  },
  {
   "cell_type": "code",
   "execution_count": 76,
   "metadata": {},
   "outputs": [],
   "source": [
    "data = pd.DataFrame(columns=['x', 'y', 'type', 'name'])\n",
    "\n",
    "for i in range(num_type):\n",
    "    point_types.append(chr(ord('A') + i))\n",
    "    \n",
    "while len(injected_patterns) < num_patterns:\n",
    "    \n",
    "    # Pick a random point\n",
    "    x = random.uniform(x_min, x_max)\n",
    "    y = random.uniform(y_min, y_max)\n",
    "    \n",
    "    # Pick a random type for this point\n",
    "    point_type = random.choice(point_types)\n",
    "    \n",
    "    # Determine the name of the point\n",
    "    name = point_type + str(sum(data['type'] == point_type) + 1)\n",
    "        \n",
    "    data = pd.concat([data, pd.DataFrame({'x': [x], 'y': [y], 'type': [point_type], 'name': [name]})], ignore_index=True)\n",
    "\n",
    "    # Pick a random size of pattern (between 2 and num_type)\n",
    "    pattern_size = random.randint(2, num_type+1)\n",
    "#     pattern_size = num_type\n",
    "    # Initialize the pattern string with the first point's type\n",
    "    pattern_str = point_type\n",
    "    \n",
    "    # Initialize a list of point types used in the pattern\n",
    "    pattern_types = [point_type]\n",
    "    \n",
    "    # Run a loop to select random points which are 'distance' apart from this point (loop will run 'pattern size' times)\n",
    "    for j in range(pattern_size - 1):\n",
    "        # Generate a random point\n",
    "        theta = random.uniform(0, 2 * math.pi)\n",
    "        \n",
    "        distance = np.random.uniform(0, min_dist)\n",
    "        \n",
    "        x_new = x + (distance / 111.32) * math.cos(theta)\n",
    "        y_new = y + (distance / (111.32 * math.cos(math.radians(x_new)))) * math.sin(theta)\n",
    "        \n",
    "        # Pick a random type for this point, making sure it is different from the previous types\n",
    "        point_type = random.choice([t for t in point_types if t != pattern_types[-1]])\n",
    "        \n",
    "        # Determine the name of the point\n",
    "        name = point_type + str(sum(data['type'] == point_type) + 1)\n",
    "        \n",
    "        # Add the point's type and name to the pattern string and pattern_types list\n",
    "        pattern_str += point_type\n",
    "        pattern_types.append(point_type)\n",
    "        \n",
    "        # Add the point to the data list\n",
    "        data = pd.concat([data, pd.DataFrame({'x': [x_new], 'y': [y_new], 'type': [point_type], 'name': [name]})], ignore_index=True)\n",
    "\n",
    "    # Add the pattern string to the injected_patterns list if all the point types in the pattern are different\n",
    "    if len(set(pattern_types)) == pattern_size:\n",
    "        injected_patterns.add(''.join(sorted(pattern_str)))\n",
    "        "
   ]
  },
  {
   "cell_type": "code",
   "execution_count": 77,
   "metadata": {},
   "outputs": [
    {
     "data": {
      "text/plain": [
       "['A', 'B', 'C', 'D']"
      ]
     },
     "execution_count": 77,
     "metadata": {},
     "output_type": "execute_result"
    }
   ],
   "source": [
    "point_types"
   ]
  },
  {
   "cell_type": "code",
   "execution_count": 81,
   "metadata": {
    "scrolled": false
   },
   "outputs": [
    {
     "data": {
      "image/png": "[encoded data removed]",
      "text/plain": [
       "<Figure size 720x576 with 1 Axes>"
      ]
     },
     "metadata": {
      "needs_background": "light"
     },
     "output_type": "display_data"
    }
   ],
   "source": [
    "cmap = plt.get_cmap('tab10')\n",
    "colors = cmap(np.linspace(0, 1, num_type))\n",
    "\n",
    "fig, ax = plt.subplots(figsize=(10, 8))\n",
    "\n",
    "for i, t in enumerate(point_types):\n",
    "    points = data[data['type'] == t]\n",
    "    ax.scatter(points['y'], points['x'], color=colors[i], label=t)\n",
    "\n",
    "ax.legend()\n",
    "# plt.xlim(y_min, y_max)\n",
    "# plt.ylim(x_min, x_max)\n",
    "plt.show()"
   ]
  },
  {
   "cell_type": "code",
   "execution_count": 79,
   "metadata": {},
   "outputs": [
    {
     "name": "stdout",
     "output_type": "stream",
     "text": [
      "['BD', 'ABCD', 'AD', 'AB', 'BC']\n"
     ]
    }
   ],
   "source": [
    "injected_patterns = list(set([''.join(sorted(pattern)) for pattern in injected_patterns]))\n",
    "\n",
    "print(injected_patterns)"
   ]
  },
  {
   "cell_type": "code",
   "execution_count": 80,
   "metadata": {},
   "outputs": [],
   "source": [
    "data = data.sort_values('type')\n",
    "\n",
    "file = open(\"new_data.txt\", \"w\")\n",
    "\n",
    "for typ in point_types:\n",
    "    \n",
    "    type_i = data[data['type']==typ]   \n",
    "    \n",
    "    file.write(str(len(type_i)) + '\\n')\n",
    "    \n",
    "    for index, row in type_i.iterrows():\n",
    "        file.write(str(row['y']) + ' ' + str(row['x']) + '\\n')\n",
    "        \n",
    "file.close()"
   ]
  },
  {
   "cell_type": "code",
   "execution_count": 85,
   "metadata": {},
   "outputs": [],
   "source": [
    "data = data.sort_values('type')\n",
    "\n",
    "file = open(\"known_data_somu.txt\", \"w\")\n",
    "\n",
    "for typ in point_types:\n",
    "    \n",
    "    type_i = data[data['type']==typ]   \n",
    "        \n",
    "    for index, row in type_i.iterrows():\n",
    "        file.write(str(row['name']) +','+ str(row['y']) + ',' + str(row['x']) + '\\n')\n",
    "        \n",
    "file.close()"
   ]
  },
  {
   "cell_type": "code",
   "execution_count": 88,
   "metadata": {},
   "outputs": [],
   "source": [
    "data = data.sort_values('type')\n",
    "\n",
    "file = open(\"known_data_sk.txt\", \"w\")\n",
    "\n",
    "for typ in point_types:\n",
    "    \n",
    "    type_i = data[data['type']==typ]   \n",
    "        \n",
    "    for index, row in type_i.iterrows():\n",
    "        file.write(typ + ' ' + str(row['name']) +','+ str(row['y']) + ',' + str(row['x']) + '\\n')\n",
    "        \n",
    "file.close()"
   ]
  },
  {
   "cell_type": "code",
   "execution_count": 86,
   "metadata": {},
   "outputs": [],
   "source": [
    "def show_rect(data, num_type, x1, y1, x2, y2):\n",
    "    cmap = plt.get_cmap('tab10')\n",
    "    colors = cmap(np.linspace(0, 1, num_type))\n",
    "    fig, ax = plt.subplots(figsize=(10, 8))\n",
    "    for i, t in enumerate(point_types):\n",
    "        points = data[data['type'] == t]\n",
    "        ax.scatter(points['y'], points['x'], color=colors[i], label=t)\n",
    "\n",
    "    rect = plt.Rectangle((x1, y1), x2 - x1, y2 - y1, linewidth=1, edgecolor='r', facecolor='none')\n",
    "    ax.add_patch(rect)\n",
    "    plt.legend()\n",
    "    plt.show()"
   ]
  },
  {
   "cell_type": "code",
   "execution_count": 87,
   "metadata": {},
   "outputs": [
    {
     "data": {
      "image/png": "[encoded data removed]",
      "text/plain": [
       "<Figure size 720x576 with 1 Axes>"
      ]
     },
     "metadata": {
      "needs_background": "light"
     },
     "output_type": "display_data"
    }
   ],
   "source": [
    "show_rect(data, num_type, 76.68049880779033, 30.632186937700684, 76.72049880779034, 30.672186937700683)"
   ]
  },
  {
   "cell_type": "code",
   "execution_count": null,
   "metadata": {},
   "outputs": [],
   "source": []
  }
 ],
 "metadata": {
  "kernelspec": {
   "display_name": "Python 3 (ipykernel)",
   "language": "python",
   "name": "python3"
  },
  "language_info": {
   "codemirror_mode": {
    "name": "ipython",
    "version": 3
   },
   "file_extension": ".py",
   "mimetype": "text/x-python",
   "name": "python",
   "nbconvert_exporter": "python",
   "pygments_lexer": "ipython3",
   "version": "3.10.10"
  }
 },
 "nbformat": 4,
 "nbformat_minor": 2
}
